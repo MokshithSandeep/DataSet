{
 "cells": [
  {
   "cell_type": "code",
   "execution_count": 1,
   "metadata": {},
   "outputs": [],
   "source": [
    "import pandas as pd\n",
    "import numpy as np\n",
    "import seaborn as sns\n",
    "import matplotlib.pyplot as plt\n",
    "%matplotlib inline\n",
    "import warnings\n",
    "warnings.filterwarnings(\"ignore\")\n",
    "\n",
    "from sklearn.feature_selection import chi2, SelectKBest"
   ]
  },
  {
   "cell_type": "code",
   "execution_count": 2,
   "metadata": {},
   "outputs": [
    {
     "name": "stdout",
     "output_type": "stream",
     "text": [
      "The number of data points in the data  : 1965\n",
      "The features of the data : 10\n"
     ]
    },
    {
     "data": {
      "text/html": [
       "<div>\n",
       "<style scoped>\n",
       "    .dataframe tbody tr th:only-of-type {\n",
       "        vertical-align: middle;\n",
       "    }\n",
       "\n",
       "    .dataframe tbody tr th {\n",
       "        vertical-align: top;\n",
       "    }\n",
       "\n",
       "    .dataframe thead th {\n",
       "        text-align: right;\n",
       "    }\n",
       "</style>\n",
       "<table border=\"1\" class=\"dataframe\">\n",
       "  <thead>\n",
       "    <tr style=\"text-align: right;\">\n",
       "      <th></th>\n",
       "      <th>shiptype</th>\n",
       "      <th>length</th>\n",
       "      <th>breadth</th>\n",
       "      <th>draught</th>\n",
       "      <th>longtitude</th>\n",
       "      <th>latitude</th>\n",
       "      <th>sog</th>\n",
       "      <th>cog</th>\n",
       "      <th>th</th>\n",
       "      <th>tss</th>\n",
       "    </tr>\n",
       "  </thead>\n",
       "  <tbody>\n",
       "    <tr>\n",
       "      <th>0</th>\n",
       "      <td>71</td>\n",
       "      <td>151</td>\n",
       "      <td>23</td>\n",
       "      <td>8.3</td>\n",
       "      <td>9.00</td>\n",
       "      <td>38.42</td>\n",
       "      <td>10.0</td>\n",
       "      <td>218.5</td>\n",
       "      <td>222</td>\n",
       "      <td>1</td>\n",
       "    </tr>\n",
       "    <tr>\n",
       "      <th>1</th>\n",
       "      <td>71</td>\n",
       "      <td>151</td>\n",
       "      <td>23</td>\n",
       "      <td>8.3</td>\n",
       "      <td>9.00</td>\n",
       "      <td>38.42</td>\n",
       "      <td>11.4</td>\n",
       "      <td>222.4</td>\n",
       "      <td>230</td>\n",
       "      <td>1</td>\n",
       "    </tr>\n",
       "    <tr>\n",
       "      <th>2</th>\n",
       "      <td>71</td>\n",
       "      <td>151</td>\n",
       "      <td>23</td>\n",
       "      <td>8.3</td>\n",
       "      <td>9.01</td>\n",
       "      <td>38.42</td>\n",
       "      <td>12.2</td>\n",
       "      <td>232.8</td>\n",
       "      <td>239</td>\n",
       "      <td>1</td>\n",
       "    </tr>\n",
       "    <tr>\n",
       "      <th>3</th>\n",
       "      <td>71</td>\n",
       "      <td>151</td>\n",
       "      <td>23</td>\n",
       "      <td>8.3</td>\n",
       "      <td>9.01</td>\n",
       "      <td>38.42</td>\n",
       "      <td>13.1</td>\n",
       "      <td>240.3</td>\n",
       "      <td>243</td>\n",
       "      <td>1</td>\n",
       "    </tr>\n",
       "    <tr>\n",
       "      <th>4</th>\n",
       "      <td>71</td>\n",
       "      <td>151</td>\n",
       "      <td>23</td>\n",
       "      <td>8.3</td>\n",
       "      <td>9.02</td>\n",
       "      <td>38.42</td>\n",
       "      <td>14.2</td>\n",
       "      <td>244.7</td>\n",
       "      <td>248</td>\n",
       "      <td>1</td>\n",
       "    </tr>\n",
       "  </tbody>\n",
       "</table>\n",
       "</div>"
      ],
      "text/plain": [
       "   shiptype  length  breadth  draught  longtitude  latitude   sog    cog   th  \\\n",
       "0        71     151       23      8.3        9.00     38.42  10.0  218.5  222   \n",
       "1        71     151       23      8.3        9.00     38.42  11.4  222.4  230   \n",
       "2        71     151       23      8.3        9.01     38.42  12.2  232.8  239   \n",
       "3        71     151       23      8.3        9.01     38.42  13.1  240.3  243   \n",
       "4        71     151       23      8.3        9.02     38.42  14.2  244.7  248   \n",
       "\n",
       "   tss  \n",
       "0    1  \n",
       "1    1  \n",
       "2    1  \n",
       "3    1  \n",
       "4    1  "
      ]
     },
     "execution_count": 2,
     "metadata": {},
     "output_type": "execute_result"
    }
   ],
   "source": [
    "# Path to the data file\n",
    "file_path = r\"D:\\Data_Sets\\Mobile_Prices\\data.csv\"\n",
    "\n",
    "# Reading the data from the Southern Second Order file, and also passing the column names to south_data data frame\n",
    "south_data = pd.read_csv(file_path)\n",
    "\n",
    "\n",
    "# Printing the number of data points and the number of columns of south_data data frame\n",
    "print(\"The number of data points in the data  :\", south_data.shape[0])\n",
    "print(\"The features of the data :\", south_data.shape[1])\n",
    "\n",
    "# Printing the head of south_data data frame\n",
    "south_data.head(5)"
   ]
  },
  {
   "cell_type": "code",
   "execution_count": 3,
   "metadata": {},
   "outputs": [
    {
     "data": {
      "text/plain": [
       "shiptype      0\n",
       "length        0\n",
       "breadth       0\n",
       "draught       0\n",
       "longtitude    0\n",
       "latitude      0\n",
       "sog           0\n",
       "cog           0\n",
       "th            0\n",
       "tss           0\n",
       "dtype: int64"
      ]
     },
     "execution_count": 3,
     "metadata": {},
     "output_type": "execute_result"
    }
   ],
   "source": [
    "south_data.isnull().sum()"
   ]
  },
  {
   "cell_type": "code",
   "execution_count": 5,
   "metadata": {},
   "outputs": [
    {
     "data": {
      "text/plain": [
       "array([nan, nan, nan, nan, nan, nan, nan, nan, nan])"
      ]
     },
     "execution_count": 5,
     "metadata": {},
     "output_type": "execute_result"
    }
   ],
   "source": [
    "x = south_data.drop(\"tss\", axis = 1)\n",
    "y = south_data[\"tss\"]\n",
    "\n",
    "bestfit = SelectKBest(score_func=chi2, k=5)\n",
    "features = bestfit.fit(x,y)\n",
    "x_new = features.transform(x)\n",
    "\n",
    "features.scores_"
   ]
  },
  {
   "cell_type": "code",
   "execution_count": null,
   "metadata": {},
   "outputs": [],
   "source": []
  }
 ],
 "metadata": {
  "kernelspec": {
   "display_name": "Python 3",
   "language": "python",
   "name": "python3"
  },
  "language_info": {
   "codemirror_mode": {
    "name": "ipython",
    "version": 3
   },
   "file_extension": ".py",
   "mimetype": "text/x-python",
   "name": "python",
   "nbconvert_exporter": "python",
   "pygments_lexer": "ipython3",
   "version": "3.6.4"
  }
 },
 "nbformat": 4,
 "nbformat_minor": 2
}
